{
 "cells": [
  {
   "cell_type": "code",
   "execution_count": 4,
   "metadata": {},
   "outputs": [
    {
     "name": "stdout",
     "output_type": "stream",
     "text": [
      "enter a wordunited state of america\n",
      "['u', 'i', 'e', 'a', 'o']\n"
     ]
    }
   ],
   "source": [
    "# loops\n",
    "# task1\n",
    "word = input(\"enter a word\")\n",
    "\n",
    "vowels = ['a','e','o','u','i']\n",
    "\n",
    "word = word.lower()\n",
    "\n",
    "found = list()\n",
    "\n",
    "for i in word:\n",
    "    if i in vowels and i not in found:\n",
    "        found.append(i)\n",
    "\n",
    "print(found)\n",
    "\n"
   ]
  },
  {
   "cell_type": "code",
   "execution_count": 6,
   "metadata": {},
   "outputs": [
    {
     "name": "stdout",
     "output_type": "stream",
     "text": [
      "enter a wordunited state of america\n",
      "{'o', 'i', 'a', 'e', 'u'}\n"
     ]
    }
   ],
   "source": [
    "# loops\n",
    "# task1\n",
    "word = input(\"enter a word\")\n",
    "vowels = ['a','e','o','u','i']\n",
    "\n",
    "word = word.lower()\n",
    "\n",
    "found = list()\n",
    "\n",
    "for i in word:\n",
    "    if i in vowels:\n",
    "        found.append(i)\n",
    "\n",
    "print(set(found))"
   ]
  },
  {
   "cell_type": "code",
   "execution_count": 7,
   "metadata": {},
   "outputs": [
    {
     "name": "stdout",
     "output_type": "stream",
     "text": [
      "105,126,147,168,189,210,231,252,273,294,315,336,357,378,399,420,441,462,483,"
     ]
    }
   ],
   "source": [
    "# loops\n",
    "# task2\n",
    "\n",
    "for i in range (100, 501):\n",
    "    if i % 7 == 0 and i % 3 == 0:\n",
    "        print(i, end = \",\")"
   ]
  },
  {
   "cell_type": "code",
   "execution_count": 11,
   "metadata": {},
   "outputs": [
    {
     "name": "stdout",
     "output_type": "stream",
     "text": [
      "enter a input: 7 days 24 hours\n",
      "9\n",
      "3\n"
     ]
    }
   ],
   "source": [
    "# loops\n",
    "# task3\n",
    "word = input(\"enter a input: \")\n",
    "7 \n",
    "letter = list()\n",
    "digit = list()\n",
    "for i in word:\n",
    "    if i.isdigit():\n",
    "        digit.append(i)\n",
    "    elif i.isalpha():\n",
    "        letter.append(i)\n",
    "print(len(letter))\n",
    "print(len(digit))"
   ]
  },
  {
   "cell_type": "code",
   "execution_count": null,
   "metadata": {},
   "outputs": [],
   "source": []
  }
 ],
 "metadata": {
  "kernelspec": {
   "display_name": "Python 3",
   "language": "python",
   "name": "python3"
  },
  "language_info": {
   "codemirror_mode": {
    "name": "ipython",
    "version": 3
   },
   "file_extension": ".py",
   "mimetype": "text/x-python",
   "name": "python",
   "nbconvert_exporter": "python",
   "pygments_lexer": "ipython3",
   "version": "3.7.6"
  }
 },
 "nbformat": 4,
 "nbformat_minor": 4
}
